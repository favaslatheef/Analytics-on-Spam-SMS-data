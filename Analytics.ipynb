{
 "cells": [
  {
   "cell_type": "code",
   "execution_count": 41,
   "metadata": {
    "collapsed": false
   },
   "outputs": [
    {
     "data": {
      "text/html": [
       "<div>\n",
       "<style>\n",
       "    .dataframe thead tr:only-child th {\n",
       "        text-align: right;\n",
       "    }\n",
       "\n",
       "    .dataframe thead th {\n",
       "        text-align: left;\n",
       "    }\n",
       "\n",
       "    .dataframe tbody tr th {\n",
       "        vertical-align: top;\n",
       "    }\n",
       "</style>\n",
       "<table border=\"1\" class=\"dataframe\">\n",
       "  <thead>\n",
       "    <tr style=\"text-align: right;\">\n",
       "      <th></th>\n",
       "      <th>label</th>\n",
       "      <th>text</th>\n",
       "    </tr>\n",
       "  </thead>\n",
       "  <tbody>\n",
       "    <tr>\n",
       "      <th>0</th>\n",
       "      <td>ham</td>\n",
       "      <td>Go until jurong point, crazy.. Available only ...</td>\n",
       "    </tr>\n",
       "    <tr>\n",
       "      <th>1</th>\n",
       "      <td>ham</td>\n",
       "      <td>Ok lar... Joking wif u oni...</td>\n",
       "    </tr>\n",
       "    <tr>\n",
       "      <th>2</th>\n",
       "      <td>spam</td>\n",
       "      <td>Free entry in 2 a wkly comp to win FA Cup fina...</td>\n",
       "    </tr>\n",
       "    <tr>\n",
       "      <th>3</th>\n",
       "      <td>ham</td>\n",
       "      <td>U dun say so early hor... U c already then say...</td>\n",
       "    </tr>\n",
       "    <tr>\n",
       "      <th>4</th>\n",
       "      <td>ham</td>\n",
       "      <td>Nah I don't think he goes to usf, he lives aro...</td>\n",
       "    </tr>\n",
       "  </tbody>\n",
       "</table>\n",
       "</div>"
      ],
      "text/plain": [
       "  label                                               text\n",
       "0   ham  Go until jurong point, crazy.. Available only ...\n",
       "1   ham                      Ok lar... Joking wif u oni...\n",
       "2  spam  Free entry in 2 a wkly comp to win FA Cup fina...\n",
       "3   ham  U dun say so early hor... U c already then say...\n",
       "4   ham  Nah I don't think he goes to usf, he lives aro..."
      ]
     },
     "execution_count": 41,
     "metadata": {},
     "output_type": "execute_result"
    }
   ],
   "source": [
    "#Histogram of Word count-Number of SMS\n",
    "\n",
    "#Import the packages\n",
    "#Drop unwanted coloumns from csv file\n",
    "import pandas as pd\n",
    "import numpy as np\n",
    "import csv\n",
    "from nltk import wordpunct_tokenize\n",
    "data = pd.read_csv('Desktop/Datasets/spam.csv', encoding ='latin-1')\n",
    "data = data.drop([\"Unnamed: 2\", \"Unnamed: 3\", \"Unnamed: 4\"], axis=1)\n",
    "data = data.rename(columns={\"v1\":\"label\", \"v2\":\"text\"})\n",
    "data.head()\n"
   ]
  },
  {
   "cell_type": "code",
   "execution_count": 42,
   "metadata": {
    "collapsed": false
   },
   "outputs": [
    {
     "name": "stdout",
     "output_type": "stream",
     "text": [
      "[24, 8, 39, 13, 16, 46, 18, 31, 33, 31, 30, 36, 40, 42, 9, 31, 9, 22, 14, 35, 9, 15, 13, 23, 13, 37, 6, 35, 26, 16, 33, 49, 7, 18, 34, 30, 14, 8, 6, 40, 20, 35, 34, 5, 20, 7, 11, 7, 17, 40, 14, 31, 18, 73, 27, 20, 41, 10, 4, 10, 29, 11, 6, 14, 26, 33, 27, 42, 20, 9, 11, 6, 11, 13, 6, 11, 16, 13, 11, 21, 7, 10, 10, 9, 4, 17, 31, 36, 11, 11, 21, 45, 27, 30, 23, 27, 8, 13, 45, 15, 23, 20, 31, 46, 10, 19, 13, 16, 28, 10, 9, 8, 29, 35, 36, 39, 36, 16, 21, 23, 36, 13, 29, 14, 10, 6, 58, 6, 31, 10, 5, 9, 5, 34, 39, 13, 9, 10, 36, 24, 11, 7, 33, 12, 7, 11, 38, 20, 9, 7, 12, 16, 6, 31, 97, 6, 8, 41, 21, 32, 26, 16, 26, 44, 37, 11, 34, 17, 15, 14, 12, 25, 7, 24, 18, 16, 7, 40, 17, 31, 34, 8, 15, 7, 6, 34, 8, 31, 14, 22, 18, 47, 8, 24, 23, 7, 6, 16, 33, 14, 9, 18, 42, 4, 8, 14, 39, 6, 19, 10, 19, 6, 9, 7, 8, 10, 13, 10, 8, 41, 8, 33, 7, 30, 39, 15, 36, 6, 35, 8, 26, 8, 9, 11, 41, 14, 15, 10, 37, 31, 11, 7, 21, 43, 9, 21, 8, 7, 36, 27, 8, 40, 8, 40, 12, 22, 10, 9, 31, 21, 1, 23, 14, 25, 7, 8, 12, 36, 12, 27, 12, 32, 36, 10, 8, 2, 9, 10, 13, 13, 6, 5, 8, 2, 30, 14, 2, 36, 39, 34, 9, 15, 7, 5, 9, 40, 14, 39, 12, 18, 19, 36, 23, 5, 39, 14, 8, 18, 30, 13, 27, 39, 30, 41, 12, 8, 30, 12, 30, 6, 13, 15, 29, 37, 8, 7, 9, 22, 9, 24, 10, 15, 28, 48, 38, 14, 13, 5, 7, 10, 9, 35, 6, 8, 10, 7, 24, 6, 31, 17, 15, 19, 37, 29, 14, 46, 27, 36, 44, 23, 9, 5, 7, 19, 37, 14, 32, 25, 7, 9, 32, 9, 17, 38, 29, 5, 14, 29, 7, 31, 78, 13, 12, 12, 27, 6, 7, 7, 28, 11, 7, 18, 6, 30, 15, 19, 30, 50, 49, 23, 39, 10, 8, 11, 18, 15, 38, 12, 3, 34, 17, 8, 27, 6, 8, 8, 7, 29, 18, 34, 13, 28, 6, 28, 65, 10, 7, 8, 18, 44, 6, 15, 28, 5, 20, 28, 15, 6, 20, 13, 23, 10, 20, 7, 11, 27, 18, 14, 10, 5, 3, 10, 16, 23, 40, 12, 28, 32, 24, 27, 16, 15, 40, 9, 8, 34, 19, 9, 16, 10, 32, 11, 65, 37, 32, 13, 8, 9, 14, 18, 8, 20, 4, 13, 9, 12, 28, 8, 26, 14, 29, 41, 9, 10, 10, 5, 16, 13, 9, 5, 37, 6, 4, 11, 38, 33, 13, 42, 6, 37, 26, 15, 5, 7, 35, 7, 39, 19, 40, 25, 12, 6, 6, 10, 40, 19, 43, 11, 21, 10, 32, 13, 7, 6, 45, 38, 15, 20, 16, 14, 22, 32, 21, 13, 30, 5, 36, 8, 8, 27, 59, 14, 24, 35, 45, 12, 11, 9, 18, 41, 10, 10, 12, 35, 37, 24, 11, 35, 22, 7, 31, 8, 6, 5, 8, 20, 30, 11, 23, 33, 11, 10, 29, 18, 22, 17, 29, 11, 6, 11, 40, 31, 33, 6, 33, 8, 7, 15, 20, 13, 20, 19, 9, 9, 5, 6, 26, 18, 7, 19, 32, 39, 4, 27, 16, 31, 32, 5, 14, 22, 11, 13, 18, 17, 27, 17, 16, 25, 28, 31, 9, 3, 14, 14, 41, 6, 22, 12, 10, 12, 20, 36, 8, 10, 36, 23, 19, 32, 10, 31, 13, 30, 17, 7, 6, 9, 41, 9, 22, 9, 37, 7, 12, 9, 14, 13, 14, 12, 6, 6, 10, 10, 38, 39, 17, 10, 18, 22, 7, 30, 13, 10, 7, 45, 22, 7, 32, 41, 11, 19, 5, 32, 18, 18, 22, 8, 14, 18, 8, 12, 8, 7, 13, 27, 22, 20, 7, 12, 34, 31, 61, 40, 7, 27, 12, 11, 36, 30, 31, 36, 8, 12, 6, 8, 61, 16, 41, 10, 14, 6, 18, 12, 22, 30, 23, 7, 11, 38, 7, 37, 11, 15, 49, 10, 11, 11, 28, 28, 24, 10, 22, 10, 5, 7, 20, 6, 14, 26, 6, 25, 24, 34, 28, 36, 17, 33, 27, 7, 12, 32, 11, 23, 19, 16, 5, 7, 33, 31, 30, 5, 37, 23, 2, 17, 13, 19, 27, 29, 34, 7, 34, 8, 16, 17, 23, 11, 38, 19, 10, 14, 40, 25, 40, 34, 9, 6, 13, 8, 11, 17, 11, 27, 31, 6, 29, 13, 29, 7, 5, 31, 33, 6, 34, 37, 6, 11, 6, 7, 22, 17, 34, 31, 42, 52, 5, 14, 28, 89, 28, 42, 20, 18, 16, 34, 9, 53, 22, 20, 26, 43, 13, 15, 13, 26, 26, 31, 7, 35, 6, 8, 10, 5, 25, 19, 8, 34, 33, 34, 32, 35, 21, 18, 10, 21, 29, 39, 10, 35, 30, 34, 28, 66, 19, 6, 17, 5, 16, 21, 3, 10, 6, 13, 16, 33, 23, 30, 11, 42, 15, 27, 24, 11, 19, 12, 17, 12, 31, 19, 6, 40, 39, 7, 46, 14, 11, 15, 14, 32, 19, 10, 6, 15, 12, 17, 17, 14, 28, 10, 7, 31, 31, 22, 7, 19, 32, 6, 12, 9, 33, 30, 31, 16, 30, 26, 47, 15, 36, 31, 6, 10, 9, 7, 32, 11, 7, 33, 33, 4, 29, 2, 11, 34, 23, 18, 5, 23, 16, 58, 9, 18, 24, 7, 10, 6, 6, 29, 6, 45, 16, 10, 19, 14, 29, 13, 6, 15, 18, 37, 51, 15, 3, 34, 19, 31, 13, 12, 21, 36, 31, 9, 7, 31, 23, 13, 6, 9, 25, 41, 16, 29, 21, 11, 12, 15, 10, 29, 39, 10, 13, 9, 47, 30, 6, 6, 11, 13, 8, 11, 15, 9, 12, 4, 8, 37, 22, 38, 7, 28, 32, 12, 14, 9, 10, 27, 22, 7, 23, 28, 20, 28, 9, 12, 28, 8, 41, 8, 5, 7, 24, 41, 13, 36, 31, 32, 15, 7, 12, 17, 28, 4, 12, 34, 22, 29, 9, 23, 9, 6, 5, 15, 16, 9, 5, 27, 210, 45, 10, 5, 36, 15, 28, 17, 5, 45, 19, 6, 30, 43, 17, 25, 19, 22, 12, 16, 33, 8, 39, 30, 28, 9, 5, 14, 8, 19, 15, 11, 17, 18, 20, 35, 9, 29, 11, 8, 8, 40, 19, 26, 27, 13, 8, 7, 8, 39, 17, 8, 25, 6, 5, 34, 10, 49, 19, 22, 29, 21, 7, 14, 20, 6, 11, 7, 6, 42, 17, 21, 17, 33, 9, 11, 8, 7, 39, 37, 11, 12, 7, 11, 19, 37, 15, 43, 5, 8, 14, 39, 41, 8, 17, 9, 7, 6, 15, 10, 10, 6, 14, 19, 14, 13, 5, 16, 31, 42, 5, 9, 17, 12, 39, 47, 9, 5, 14, 14, 40, 28, 38, 10, 6, 7, 11, 12, 13, 30, 18, 21, 10, 16, 17, 30, 38, 5, 11, 8, 32, 17, 29, 11, 31, 11, 21, 15, 8, 11, 31, 37, 6, 10, 13, 22, 17, 14, 10, 14, 11, 10, 28, 16, 39, 17, 16, 13, 20, 19, 6, 14, 15, 12, 8, 19, 20, 44, 29, 13, 7, 26, 10, 10, 32, 11, 21, 26, 2, 18, 23, 7, 4, 8, 19, 17, 14, 12, 35, 7, 11, 8, 34, 35, 7, 21, 16, 19, 38, 10, 12, 7, 12, 13, 11, 16, 24, 12, 35, 12, 12, 11, 37, 38, 13, 12, 31, 23, 22, 9, 32, 39, 8, 31, 2, 7, 14, 13, 9, 21, 35, 9, 8, 36, 13, 22, 9, 6, 13, 12, 38, 36, 21, 12, 15, 9, 6, 24, 9, 45, 4, 9, 21, 6, 12, 41, 5, 7, 29, 12, 21, 5, 16, 34, 30, 84, 10, 16, 7, 49, 29, 22, 12, 27, 12, 7, 12, 21, 39, 35, 40, 6, 8, 30, 7, 38, 7, 35, 18, 38, 78, 30, 8, 32, 13, 30, 38, 7, 22, 3, 8, 16, 6, 14, 11, 37, 19, 25, 37, 10, 8, 8, 35, 7, 11, 5, 7, 28, 40, 36, 12, 17, 11, 21, 11, 17, 11, 7, 33, 7, 8, 14, 2, 28, 32, 14, 36, 26, 8, 15, 11, 5, 29, 19, 10, 17, 30, 6, 12, 36, 3, 6, 37, 30, 30, 3, 6, 15, 9, 5, 12, 33, 25, 31, 37, 14, 34, 13, 37, 27, 36, 41, 42, 9, 33, 33, 7, 13, 19, 25, 37, 23, 24, 7, 21, 36, 7, 9, 2, 27, 7, 37, 39, 7, 10, 5, 38, 32, 17, 21, 25, 14, 43, 20, 33, 38, 8, 25, 8, 11, 9, 11, 27, 40, 9, 36, 22, 27, 103, 7, 8, 10, 12, 31, 11, 9, 42, 9, 25, 4, 8, 8, 39, 5, 9, 10, 6, 16, 43, 8, 5, 38, 23, 11, 4, 31, 9, 48, 5, 42, 12, 37, 8, 19, 7, 12, 18, 12, 3, 9, 9, 16, 28, 5, 25, 17, 21, 16, 13, 10, 6, 45, 9, 7, 27, 9, 14, 6, 35, 37, 29, 16, 19, 45, 185, 15, 17, 11, 16, 28, 7, 77, 15, 37, 10, 30, 37, 8, 10, 32, 34, 9, 33, 29, 8, 10, 7, 31, 6, 31, 23, 6, 12, 26, 37, 9, 9, 1, 39, 8, 14, 8, 27, 7, 26, 9, 40, 33, 30, 14, 17, 40, 8, 34, 10, 19, 14, 19, 33, 11, 35, 35, 42, 19, 8, 36, 12, 43, 4, 8, 6, 10, 8, 35, 34, 8, 33, 20, 36, 40, 17, 8, 25, 14, 34, 9, 12, 19, 29, 7, 5, 32, 14, 20, 8, 14, 4, 6, 35, 18, 6, 17, 21, 10, 34, 27, 5, 3, 32, 9, 8, 7, 36, 27, 7, 5, 34, 13, 22, 24, 19, 15, 19, 15, 31, 2, 6, 17, 9, 6, 28, 21, 19, 15, 36, 16, 15, 13, 15, 31, 8, 15, 26, 35, 12, 19, 37, 30, 14, 44, 12, 18, 34, 5, 27, 8, 6, 12, 7, 48, 13, 7, 5, 12, 9, 7, 33, 17, 37, 9, 27, 38, 23, 8, 37, 6, 7, 18, 7, 13, 15, 8, 13, 12, 7, 29, 11, 44, 27, 19, 34, 30, 40, 9, 15, 33, 14, 9, 37, 11, 12, 10, 7, 38, 33, 40, 32, 7, 12, 14, 37, 11, 34, 9, 7, 15, 23, 38, 39, 9, 9, 36, 30, 9, 12, 13, 30, 5, 8, 12, 9, 13, 29, 13, 28, 11, 16, 23, 33, 6, 24, 15, 10, 10, 7, 12, 19, 38, 12, 23, 6, 27, 81, 19, 6, 31, 10, 17, 7, 6, 11, 7, 6, 7, 36, 46, 19, 7, 6, 7, 11, 26, 27, 36, 11, 19, 13, 14, 39, 23, 21, 12, 46, 29, 9, 13, 14, 13, 207, 10, 9, 20, 13, 48, 18, 7, 12, 17, 14, 26, 20, 36, 9, 28, 8, 30, 15, 6, 11, 26, 12, 16, 36, 30, 21, 9, 21, 14, 33, 6, 42, 12, 27, 14, 8, 6, 17, 7, 9, 38, 14, 16, 18, 5, 29, 8, 28, 20, 24, 5, 34, 13, 12, 17, 7, 46, 6, 10, 25, 21, 1, 18, 35, 7, 32, 36, 7, 10, 4, 6, 8, 18, 9, 26, 12, 37, 26, 41, 13, 30, 21, 18, 12, 11, 12, 8, 10, 16, 12, 16, 8, 19, 13, 20, 21, 4, 30, 7, 16, 14, 48, 17, 20, 16, 15, 31, 6, 7, 39, 12, 15, 6, 8, 25, 27, 7, 7, 23, 18, 44, 30, 35, 6, 7, 7, 12, 24, 31, 26, 10, 7, 6, 8, 8, 29, 12, 18, 8, 34, 18, 16, 14, 11, 19, 6, 113, 17, 89, 31, 27, 13, 35, 9, 16, 6, 9, 11, 23, 33, 18, 10, 19, 13, 23, 8, 8, 21, 18, 17, 6, 6, 8, 11, 5, 11, 29, 8, 8, 11, 28, 10, 13, 10, 14, 7, 8, 10, 23, 40, 34, 13, 9, 12, 10, 9, 14, 10, 27, 6, 39, 91, 11, 7, 9, 21, 35, 42, 11, 4, 45, 15, 13, 13, 33, 7, 7, 11, 13, 6, 18, 9, 12, 9, 3, 38, 106, 10, 11, 39, 40, 23, 8, 5, 10, 21, 36, 10, 18, 3, 20, 29, 7, 9, 41, 41, 12, 7, 35, 36, 16, 36, 24, 11, 13, 33, 12, 32, 37, 7, 38, 32, 17, 8, 26, 10, 10, 11, 22, 33, 89, 19, 12, 7, 7, 7, 11, 10, 9, 5, 37, 36, 36, 6, 42, 6, 8, 13, 17, 14, 8, 12, 8, 27, 153, 24, 34, 26, 10, 39, 38, 12, 9, 12, 7, 10, 39, 14, 10, 8, 15, 7, 8, 7, 11, 45, 12, 38, 2, 10, 28, 14, 26, 20, 12, 34, 19, 30, 12, 27, 20, 9, 44, 11, 6, 12, 9, 14, 15, 15, 16, 23, 32, 39, 23, 41, 5, 15, 30, 14, 14, 16, 15, 19, 14, 19, 33, 16, 15, 40, 32, 20, 24, 11, 11, 5, 22, 36, 31, 13, 6, 19, 29, 20, 30, 25, 15, 11, 5, 25, 19, 4, 17, 40, 35, 8, 32, 21, 28, 10, 6, 7, 12, 12, 9, 43, 8, 31, 18, 10, 36, 19, 12, 32, 5, 6, 6, 7, 27, 19, 6, 23, 11, 8, 32, 20, 9, 7, 14, 5, 8, 6, 20, 24, 29, 5, 27, 17, 11, 8, 20, 10, 32, 36, 8, 14, 41, 18, 17, 8, 18, 31, 14, 7, 40, 41, 17, 38, 40, 25, 7, 19, 8, 13, 29, 7, 8, 12, 2, 6, 23, 3, 5, 31, 38, 10, 15, 11, 5, 6, 7, 6, 12, 19, 19, 7, 22, 12, 15, 32, 39, 2, 13, 16, 7, 4, 13, 9, 29, 8, 14, 12, 68, 7, 10, 14, 31, 30, 17, 23, 37, 15, 10, 35, 27, 11, 115, 27, 18, 25, 34, 6, 25, 22, 28, 40, 113, 16, 31, 6, 5, 7, 30, 9, 6, 17, 19, 43, 8, 17, 26, 29, 12, 10, 8, 6, 8, 12, 41, 14, 15, 20, 6, 12, 123, 9, 26, 10, 7, 49, 27, 7, 15, 12, 21, 24, 28, 11, 26, 11, 6, 14, 16, 37, 14, 19, 42, 5, 25, 13, 153, 55, 9, 24, 38, 13, 20, 15, 19, 6, 18, 13, 46, 7, 27, 12, 6, 7, 17, 16, 7, 13, 22, 7, 10, 14, 11, 18, 3, 25, 27, 13, 10, 5, 19, 18, 5, 17, 10, 40, 7, 22, 8, 7, 51, 36, 25, 38, 10, 24, 9, 32, 22, 9, 22, 17, 31, 22, 8, 54, 12, 31, 30, 37, 14, 18, 9, 7, 8, 70, 44, 42, 9, 5, 2, 2, 41, 17, 6, 38, 39, 15, 13, 9, 7, 19, 14, 38, 7, 22, 7, 29, 46, 11, 38, 12, 19, 8, 20, 3, 23, 9, 34, 6, 13, 19, 7, 25, 16, 7, 5, 71, 17, 14, 25, 27, 16, 13, 9, 9, 9, 10, 35, 15, 16, 13, 28, 7, 4, 12, 17, 37, 40, 9, 6, 21, 7, 9, 22, 25, 35, 32, 8, 10, 9, 12, 10, 29, 14, 36, 9, 11, 9, 19, 7, 32, 38, 40, 11, 35, 13, 34, 35, 32, 18, 4, 13, 13, 1, 7, 23, 13, 37, 17, 17, 6, 9, 13, 43, 11, 8, 60, 14, 12, 12, 17, 34, 3, 35, 3, 8, 11, 29, 9, 27, 16, 41, 9, 39, 8, 15, 14, 10, 7, 21, 5, 7, 10, 34, 14, 31, 8, 7, 24, 15, 29, 36, 11, 16, 7, 23, 6, 10, 8, 9, 8, 2, 7, 9, 32, 42, 6, 9, 38, 8, 42, 25, 29, 17, 7, 36, 12, 42, 15, 15, 11, 34, 123, 9, 28, 20, 13, 35, 24, 1, 11, 18, 38, 7, 33, 24, 24, 13, 20, 13, 7, 16, 52, 46, 13, 13, 34, 27, 11, 33, 8, 7, 24, 40, 24, 14, 22, 18, 37, 4, 28, 13, 3, 10, 19, 18, 6, 11, 11, 8, 36, 36, 8, 11, 20, 8, 12, 7, 10, 23, 17, 5, 4, 49, 26, 35, 7, 9, 9, 8, 18, 16, 15, 11, 6, 28, 19, 5, 20, 8, 14, 26, 9, 16, 12, 46, 44, 7, 29, 9, 8, 32, 7, 5, 4, 28, 14, 6, 6, 26, 37, 7, 18, 21, 32, 13, 7, 4, 28, 20, 16, 10, 34, 35, 11, 41, 11, 19, 17, 27, 19, 35, 7, 32, 8, 6, 10, 4, 30, 14, 15, 9, 11, 46, 30, 15, 14, 18, 34, 32, 27, 25, 10, 28, 20, 13, 39, 3, 38, 10, 35, 4, 6, 9, 24, 7, 31, 9, 8, 10, 12, 31, 3, 7, 24, 43, 11, 8, 45, 153, 33, 22, 8, 6, 13, 13, 25, 76, 23, 34, 34, 16, 12, 10, 40, 25, 18, 8, 35, 11, 37, 34, 34, 4, 6, 13, 56, 12, 22, 33, 6, 40, 11, 12, 6, 17, 6, 10, 8, 26, 5, 14, 19, 19, 17, 10, 5, 29, 12, 11, 30, 16, 36, 33, 9, 35, 29, 34, 1, 30, 28, 12, 9, 26, 17, 32, 19, 11, 13, 6, 11, 23, 11, 12, 5, 16, 8, 7, 7, 2, 26, 10, 11, 68, 39, 15, 9, 32, 21, 13, 10, 10, 25, 35, 9, 17, 86, 9, 9, 23, 9, 15, 9, 6, 31, 26, 14, 5, 26, 34, 37, 8, 34, 9, 8, 29, 21, 8, 47, 9, 11, 6, 61, 18, 5, 12, 12, 15, 8, 15, 31, 39, 33, 11, 7, 32, 17, 23, 28, 7, 37, 33, 25, 16, 10, 35, 16, 22, 10, 3, 10, 8, 30, 12, 7, 24, 7, 8, 28, 40, 19, 30, 8, 15, 33, 14, 14, 95, 22, 11, 10, 17, 8, 6, 13, 21, 15, 11, 6, 9, 9, 39, 21, 15, 8, 12, 23, 9, 11, 15, 17, 65, 10, 31, 15, 39, 32, 9, 40, 10, 21, 1, 35, 10, 8, 7, 41, 5, 23, 32, 57, 10, 16, 7, 33, 8, 6, 28, 7, 9, 11, 17, 10, 7, 8, 11, 11, 27, 10, 8, 36, 19, 32, 14, 10, 24, 4, 37, 13, 34, 13, 12, 32, 16, 15, 16, 29, 25, 11, 10, 8, 26, 5, 12, 14, 22, 8, 74, 33, 39, 38, 22, 9, 9, 8, 16, 9, 8, 7, 18, 6, 11, 9, 38, 16, 12, 37, 6, 13, 26, 13, 8, 36, 38, 7, 11, 27, 26, 12, 6, 5, 35, 6, 21, 38, 12, 11, 10, 27, 29, 10, 12, 7, 31, 13, 36, 2, 8, 8, 13, 12, 8, 22, 17, 37, 37, 13, 22, 32, 11, 11, 10, 9, 13, 35, 6, 33, 12, 8, 8, 24, 14, 34, 30, 32, 14, 16, 14, 4, 39, 13, 30, 34, 10, 17, 15, 13, 16, 23, 12, 13, 11, 9, 26, 22, 14, 24, 4, 8, 18, 37, 41, 34, 11, 6, 27, 12, 35, 13, 13, 21, 16, 29, 38, 8, 10, 8, 82, 10, 36, 36, 22, 11, 17, 29, 5, 6, 25, 21, 6, 11, 18, 13, 14, 15, 42, 14, 28, 9, 8, 11, 6, 11, 10, 12, 9, 11, 26, 15, 27, 39, 14, 22, 7, 7, 20, 33, 21, 10, 31, 4, 20, 10, 26, 14, 4, 34, 21, 12, 5, 123, 18, 22, 18, 8, 20, 30, 14, 30, 29, 19, 20, 20, 7, 33, 31, 22, 23, 29, 29, 48, 8, 10, 37, 15, 29, 71, 25, 32, 12, 20, 14, 37, 14, 31, 19, 28, 19, 16, 9, 7, 25, 6, 37, 41, 29, 7, 11, 11, 29, 11, 8, 10, 34, 28, 21, 13, 7, 10, 12, 13, 22, 10, 11, 24, 15, 9, 12, 20, 7, 7, 83, 7, 19, 14, 18, 7, 27, 12, 29, 20, 5, 24, 12, 7, 11, 7, 8, 11, 11, 20, 25, 29, 8, 14, 5, 1, 34, 16, 4, 7, 6, 28, 12, 16, 31, 3, 21, 6, 8, 7, 13, 11, 8, 3, 31, 4, 26, 6, 8, 18, 33, 8, 31, 11, 18, 5, 19, 31, 29, 28, 39, 9, 13, 10, 8, 6, 9, 10, 35, 29, 33, 16, 32, 37, 34, 8, 19, 7, 13, 38, 9, 32, 20, 28, 13, 21, 11, 6, 6, 20, 7, 36, 29, 30, 13, 17, 33, 13, 17, 6, 7, 25, 5, 42, 33, 39, 10, 31, 11, 36, 31, 46, 20, 19, 2, 13, 22, 34, 13, 10, 7, 39, 26, 7, 11, 34, 18, 40, 17, 12, 6, 7, 27, 37, 45, 14, 6, 5, 10, 8, 26, 2, 37, 8, 28, 47, 16, 29, 19, 19, 37, 34, 7, 13, 6, 8, 2, 8, 45, 34, 11, 11, 6, 8, 16, 9, 48, 66, 9, 8, 18, 18, 28, 4, 11, 13, 27, 8, 28, 39, 23, 7, 36, 7, 7, 8, 25, 36, 23, 11, 18, 8, 9, 13, 21, 5, 40, 38, 17, 23, 16, 6, 6, 7, 7, 35, 11, 11, 11, 33, 20, 14, 18, 44, 11, 81, 17, 34, 8, 8, 36, 8, 9, 38, 9, 15, 32, 8, 20, 23, 29, 4, 12, 9, 34, 39, 33, 19, 16, 34, 16, 9, 4, 7, 30, 12, 8, 28, 10, 11, 6, 7, 9, 17, 10, 7, 20, 7, 7, 39, 15, 10, 31, 26, 5, 15, 35, 16, 10, 37, 22, 42, 10, 10, 9, 21, 12, 18, 17, 7, 34, 9, 7, 7, 23, 49, 27, 8, 31, 10, 31, 35, 22, 28, 9, 40, 15, 15, 27, 16, 19, 11, 9, 13, 7, 6, 16, 11, 15, 14, 12, 8, 34, 35, 12, 11, 47, 33, 8, 11, 7, 9, 30, 12, 38, 6, 13, 10, 38, 5, 12, 8, 37, 23, 6, 12, 22, 10, 8, 5, 5, 15, 11, 23, 28, 19, 9, 36, 13, 17, 13, 6, 39, 32, 11, 12, 12, 8, 27, 11, 10, 10, 5, 26, 38, 23, 5, 9, 17, 42, 9, 10, 11, 8, 38, 10, 10, 12, 30, 8, 14, 75, 7, 9, 9, 16, 11, 73, 11, 5, 11, 4, 20, 14, 16, 13, 11, 19, 40, 26, 41, 10, 7, 7, 20, 10, 11, 28, 13, 14, 11, 29, 39, 13, 12, 29, 6, 8, 6, 24, 17, 19, 7, 19, 6, 31, 9, 45, 77, 16, 6, 47, 10, 6, 8, 22, 5, 5, 36, 11, 41, 39, 13, 11, 9, 12, 29, 58, 52, 18, 32, 12, 11, 17, 64, 17, 34, 15, 9, 8, 9, 9, 15, 10, 9, 20, 9, 7, 28, 13, 20, 59, 5, 31, 38, 17, 12, 37, 35, 14, 20, 36, 2, 12, 11, 12, 10, 7, 18, 27, 18, 19, 38, 19, 17, 9, 15, 37, 14, 5, 15, 9, 19, 18, 37, 35, 10, 24, 6, 30, 10, 34, 9, 33, 41, 25, 9, 11, 15, 13, 11, 18, 14, 18, 12, 16, 5, 12, 12, 52, 43, 14, 9, 29, 30, 6, 14, 13, 10, 6, 27, 14, 29, 7, 30, 4, 28, 10, 9, 17, 1, 12, 7, 16, 24, 28, 8, 9, 21, 7, 29, 23, 15, 3, 27, 11, 6, 23, 16, 53, 40, 23, 21, 30, 6, 11, 7, 28, 11, 7, 22, 17, 9, 6, 13, 8, 10, 21, 31, 10, 7, 21, 8, 28, 12, 13, 25, 8, 17, 18, 39, 10, 20, 30, 28, 15, 19, 7, 11, 7, 12, 7, 32, 11, 12, 8, 12, 30, 21, 48, 34, 28, 6, 6, 15, 21, 10, 33, 20, 17, 2, 14, 17, 17, 27, 9, 37, 13, 27, 34, 32, 8, 13, 15, 17, 6, 18, 25, 28, 10, 41, 21, 15, 28, 51, 17, 30, 9, 42, 24, 47, 31, 6, 2, 17, 16, 9, 26, 11, 37, 5, 8, 23, 8, 6, 12, 9, 12, 11, 12, 10, 18, 15, 18, 16, 32, 6, 18, 6, 12, 8, 31, 7, 17, 7, 8, 14, 29, 17, 8, 9, 30, 7, 9, 16, 40, 64, 9, 15, 40, 37, 39, 17, 12, 27, 8, 24, 28, 30, 16, 22, 16, 20, 7, 20, 23, 27, 21, 6, 12, 67, 7, 10, 39, 20, 33, 7, 33, 13, 35, 27, 42, 14, 34, 8, 20, 14, 7, 10, 11, 7, 43, 12, 30, 12, 21, 9, 25, 7, 8, 20, 28, 8, 17, 43, 53, 8, 24, 23, 26, 32, 9, 38, 15, 37, 12, 40, 7, 9, 12, 10, 20, 38, 37, 14, 14, 8, 8, 36, 35, 22, 30, 15, 43, 14, 13, 36, 31, 36, 42, 22, 7, 6, 41, 12, 29, 23, 17, 11, 12, 16, 31, 29, 8, 8, 33, 14, 7, 28, 27, 40, 32, 7, 19, 7, 18, 21, 8, 6, 10, 21, 12, 33, 9, 19, 11, 18, 6, 13, 24, 7, 36, 11, 8, 9, 27, 33, 39, 36, 42, 5, 16, 40, 20, 11, 34, 8, 8, 19, 22, 25, 5, 13, 7, 20, 7, 7, 13, 14, 11, 20, 73, 16, 6, 14, 25, 29, 9, 5, 18, 6, 21, 8, 23, 19, 34, 33, 7, 10, 22, 39, 10, 33, 2, 22, 6, 9, 19, 16, 11, 6, 46, 28, 24, 9, 32, 23, 33, 9, 43, 10, 5, 16, 30, 29, 37, 17, 17, 8, 8, 25, 41, 5, 26, 17, 9, 10, 11, 7, 36, 33, 37, 5, 32, 14, 6, 33, 37, 16, 10, 69, 8, 5, 13, 17, 36, 13, 27, 41, 39, 21, 17, 20, 6, 18, 8, 31, 11, 18, 17, 28, 74, 12, 22, 20, 6, 30, 41, 9, 7, 27, 23, 17, 5, 7, 10, 4, 10, 36, 45, 13, 8, 7, 10, 17, 28, 20, 8, 7, 8, 19, 6, 38, 38, 11, 4, 11, 31, 30, 12, 13, 34, 10, 31, 34, 11, 11, 37, 26, 8, 28, 26, 13, 51, 9, 16, 13, 15, 32, 3, 29, 26, 41, 5, 20, 37, 42, 7, 11, 9, 25, 7, 31, 14, 35, 30, 32, 10, 11, 12, 34, 17, 7, 17, 17, 18, 15, 6, 76, 13, 8, 10, 26, 4, 13, 13, 29, 26, 65, 17, 10, 12, 8, 43, 23, 20, 36, 52, 7, 31, 10, 16, 8, 21, 7, 10, 6, 10, 17, 16, 13, 11, 28, 15, 14, 31, 37, 8, 24, 8, 14, 15, 8, 34, 5, 8, 7, 14, 8, 42, 7, 97, 16, 9, 12, 78, 15, 11, 22, 35, 54, 55, 22, 23, 8, 19, 7, 41, 5, 43, 23, 10, 10, 7, 15, 8, 22, 10, 4, 2, 15, 8, 18, 30, 11, 5, 5, 24, 12, 9, 34, 42, 5, 19, 19, 25, 29, 1, 33, 36, 5, 7, 8, 5, 18, 15, 6, 40, 6, 6, 14, 33, 11, 12, 11, 12, 36, 25, 24, 25, 24, 10, 7, 16, 8, 36, 49, 15, 33, 9, 25, 45, 18, 34, 9, 7, 34, 9, 12, 34, 24, 35, 34, 10, 8, 22, 33, 35, 11, 15, 49, 12, 40, 29, 11, 33, 5, 13, 20, 8, 11, 34, 7, 23, 7, 48, 56, 11, 28, 7, 41, 5, 9, 32, 6, 10, 21, 34, 34, 9, 36, 17, 26, 40, 18, 34, 45, 22, 56, 9, 29, 38, 15, 17, 25, 7, 24, 10, 19, 9, 23, 34, 9, 20, 9, 22, 33, 21, 11, 6, 8, 5, 14, 6, 25, 23, 5, 22, 22, 10, 6, 7, 8, 36, 11, 9, 13, 30, 32, 10, 9, 20, 11, 9, 12, 13, 8, 14, 13, 16, 9, 2, 32, 7, 6, 7, 29, 33, 10, 31, 32, 33, 6, 13, 8, 16, 8, 32, 23, 12, 14, 4, 7, 8, 6, 9, 6, 7, 10, 19, 14, 16, 31, 31, 8, 41, 6, 11, 14, 11, 19, 6, 10, 12, 39, 19, 8, 4, 11, 13, 3, 12, 37, 26, 34, 40, 13, 19, 8, 2, 39, 5, 2, 28, 8, 6, 25, 7, 15, 18, 21, 21, 14, 16, 15, 9, 30, 23, 12, 27, 19, 14, 17, 8, 35, 16, 18, 34, 33, 6, 18, 7, 11, 15, 38, 9, 8, 39, 57, 6, 26, 14, 10, 13, 7, 20, 11, 20, 28, 25, 26, 43, 13, 39, 12, 13, 38, 34, 29, 31, 15, 32, 8, 5, 15, 18, 5, 16, 10, 23, 15, 8, 40, 12, 16, 34, 12, 15, 22, 18, 13, 18, 9, 32, 13, 33, 9, 8, 41, 13, 20, 5, 6, 26, 12, 12, 27, 36, 13, 11, 37, 54, 9, 7, 28, 7, 12, 30, 29, 44, 33, 22, 13, 13, 16, 8, 20, 19, 6, 8, 14, 10, 37, 2, 30, 12, 7, 19, 13, 13, 32, 8, 12, 41, 7, 32, 9, 8, 22, 17, 32, 17, 10, 8, 30, 7, 12, 16, 10, 22, 10, 20, 5, 9, 25, 4, 11, 14, 2, 32, 19, 5, 30, 25, 15, 11, 72, 7, 23, 45, 22, 9, 16, 8, 6, 20, 42, 23, 37, 17, 21, 8, 10, 37, 21, 9, 5, 31, 42, 76, 39, 18, 36, 5, 5, 24, 9, 12, 12, 11, 34, 14, 27, 10, 121, 49, 6, 4, 12, 7, 34, 17, 8, 36, 60, 30, 8, 39, 18, 13, 11, 41, 40, 9, 11, 11, 11, 7, 23, 43, 27, 42, 11, 6, 8, 21, 6, 9, 27, 26, 14, 19, 28, 21, 21, 25, 10, 27, 32, 9, 33, 33, 27, 24, 17, 20, 37, 12, 10, 21, 15, 40, 3, 8, 37, 18, 35, 35, 29, 33, 28, 11, 14, 32, 17, 13, 12, 15, 26, 25, 6, 6, 16, 5, 41, 9, 11, 22, 3, 23, 36, 30, 8, 3, 11, 14, 11, 6, 6, 8, 16, 11, 9, 37, 65, 20, 4, 8, 6, 20, 15, 33, 14, 14, 38, 18, 12, 36, 40, 8, 18, 4, 14, 21, 5, 12, 36, 32, 15, 29, 19, 11, 12, 16, 6, 18, 38, 10, 31, 22, 41, 15, 27, 10, 31, 19, 23, 8, 21, 32, 9, 11, 29, 7, 30, 42, 9, 33, 11, 27, 7, 15, 25, 11, 8, 19, 27, 24, 7, 20, 37, 5, 31, 15, 19, 31, 16, 23, 30, 23, 7, 13, 22, 51, 14, 4, 12, 21, 20, 6, 8, 7, 10, 17, 7, 26, 10, 20, 15, 35, 39, 9, 11, 29, 19, 115, 44, 10, 15, 32, 6, 9, 7, 30, 20, 11, 39, 10, 15, 6, 11, 8, 12, 18, 7, 33, 27, 22, 7, 14, 82, 9, 23, 29, 29, 10, 7, 18, 43, 22, 56, 20, 40, 31, 20, 12, 23, 20, 36, 20, 8, 25, 20, 46, 12, 9, 22, 17, 8, 16, 6, 8, 20, 11, 6, 35, 9, 28, 5, 21, 8, 26, 8, 14, 3, 8, 23, 14, 22, 29, 28, 45, 14, 8, 8, 16, 10, 5, 5, 1, 38, 32, 7, 17, 11, 10, 33, 31, 24, 27, 11, 35, 43, 9, 5, 15, 27, 12, 33, 8, 67, 19, 7, 10, 6, 41, 12, 9, 10, 8, 12, 9, 21, 13, 12, 31, 27, 15, 18, 36, 9, 9, 38, 32, 11, 7, 23, 37, 28, 8, 13, 13, 6, 4, 35, 15, 13, 32, 15, 10, 13, 32, 24, 17, 13, 5, 5, 10, 13, 8, 19, 33, 14, 6, 14, 78, 8, 34, 10, 2, 42, 16, 12, 42, 13, 26, 8, 15, 43, 29, 34, 12, 10, 12, 7, 6, 40, 11, 27, 31, 15, 6, 12, 37, 8, 32, 14, 7, 28, 11, 12, 7, 7, 23, 20, 26, 20, 13, 6, 42, 22, 9, 39, 25, 10, 34, 6, 7, 25, 37, 5, 9, 18, 9, 9, 41, 47, 6, 6, 6, 7, 12, 16, 8, 33, 12, 56, 28, 13, 7, 12, 9, 9, 34, 16, 8, 5, 30, 34, 12, 5, 10, 17, 9, 22, 27, 31, 7, 1, 32, 37, 17, 11, 18, 12, 24, 20, 33, 33, 32, 13, 31, 11, 13, 14, 48, 12, 31, 18, 38, 15, 11, 12, 18, 20, 38, 27, 8, 24, 11, 11, 5, 5, 14, 27, 9, 14, 9, 5, 14, 10, 40, 21, 30, 11, 17, 7, 8, 44, 7, 8, 24, 10, 19, 17, 2, 21, 26, 10, 22, 30, 9, 10, 14, 7, 22, 9, 11, 22, 7, 29, 25, 9, 7, 12, 11, 10, 7, 8, 9, 12, 10, 21, 26, 36, 19, 18, 26, 7, 12, 15, 6, 48, 8, 8, 9, 21, 25, 7, 7, 30, 30, 17, 37, 5, 9, 24, 21, 36, 37, 3, 6, 1, 17, 8, 32, 14, 17, 13, 8, 14, 10, 6, 29, 16, 43, 30, 6, 37, 7, 11, 7, 18, 39, 15, 41, 29, 16, 36, 11, 11, 34, 33, 7, 16, 13, 30, 39, 9, 13, 15, 5, 12, 6, 22, 10, 62, 41, 37, 32, 12, 8, 9, 9, 5, 36, 23, 32, 13, 10, 6, 17, 14, 6, 28, 5, 67, 12, 20, 40, 5, 42, 7, 8, 9, 43, 10, 10, 35, 10, 25, 11, 13, 18, 6, 22, 43, 18, 64, 7, 19, 9, 18, 21, 6, 18, 4, 32, 42, 9, 15, 28, 7]\n"
     ]
    }
   ],
   "source": [
    "import pandas as pd\n",
    "import numpy as np\n",
    "import csv\n",
    "from nltk import wordpunct_tokenize\n",
    "data = pd.read_csv('Desktop/Datasets/spam.csv', encoding ='latin-1')\n",
    "data = data.drop([\"Unnamed: 2\", \"Unnamed: 3\", \"Unnamed: 4\"], axis=1)\n",
    "data = data.rename(columns={\"v1\":\"label\", \"v2\":\"text\"})\n",
    "\n",
    "#Count the number of words in each of the SMS by tokenizing\n",
    "\n",
    "\n",
    "a =[]\n",
    "for i in range(5572):\n",
    "    token = wordpunct_tokenize(data['text'][i])\n",
    "    a.append(len(token))\n",
    "print (a)\n",
    "    \n"
   ]
  },
  {
   "cell_type": "code",
   "execution_count": 43,
   "metadata": {
    "collapsed": false
   },
   "outputs": [
    {
     "name": "stdout",
     "output_type": "stream",
     "text": [
      "[   1.   14.   34.   32.   55.  157.  267.  344.  335.  291.  267.  271.\n",
      "  251.  209.  184.  154.  139.  148.  126.  134.  113.   96.   98.   96.\n",
      "   66.   73.   75.   98.   94.  100.  100.  108.  102.   96.  109.   74.\n",
      "   96.   96.   69.   73.   64.   52.   42.   28.   15.   23.   16.   11.\n",
      "   12.   12.    2.    6.    6.    4.    4.    3.    6.    3.    4.    3.\n",
      "    3.    4.    2.    1.    4.    6.    3.    4.    3.    2.    2.    3.\n",
      "    2.    4.    3.    2.    4.    3.    5.    1.    1.    3.    3.    2.\n",
      "    2.    1.    2.    1.    1.    4.    1.    2.    1.    1.    1.    2.\n",
      "    1.    3.    1.    1.    1.    1.    1.    2.    1.    1.    2.    1.\n",
      "    1.    1.    1.    1.    1.    3.    1.    3.    1.    1.    1.    1.\n",
      "    1.    2.    1.    4.    1.    1.    1.    1.    1.    1.    1.    1.\n",
      "    1.    1.    1.    1.    1.    1.    1.    1.    1.    1.    1.    1.\n",
      "    1.    1.    1.    1.    1.    1.    1.    1.    1.    4.    1.    1.\n",
      "    1.    1.    1.    1.    1.    1.    1.    1.    1.    1.    1.    1.\n",
      "    1.    1.    1.    1.    1.    1.    1.    1.    1.    1.    1.    1.\n",
      "    1.    1.    1.    1.    1.    2.    1.    1.    1.    1.    1.    1.\n",
      "    1.    1.    1.    1.    1.    1.    1.    1.    1.    1.    1.    1.\n",
      "    1.    1.    1.    2.    1.    1.]\n"
     ]
    }
   ],
   "source": [
    "import pandas as pd\n",
    "import numpy as np\n",
    "import csv\n",
    "from nltk import wordpunct_tokenize\n",
    "data = pd.read_csv('Desktop/Datasets/spam.csv', encoding ='latin-1')\n",
    "data = data.drop([\"Unnamed: 2\", \"Unnamed: 3\", \"Unnamed: 4\"], axis=1)\n",
    "data = data.rename(columns={\"v1\":\"label\", \"v2\":\"text\"})\n",
    "a =[]\n",
    "for i in range(5572):\n",
    "    token = wordpunct_tokenize(data['text'][i])\n",
    "    a.append(len(token))\n",
    "    \n",
    "#Get the number of SMS which has particular number of words\n",
    "\n",
    "\n",
    "b=np.ones(210)\n",
    "for i in range(len(a)):\n",
    "    for j in range(max(a)):\n",
    "        if a[i] == j:\n",
    "            b[j] = b[j]+1\n",
    "        \n",
    "print (b)\n"
   ]
  },
  {
   "cell_type": "code",
   "execution_count": 46,
   "metadata": {
    "collapsed": false
   },
   "outputs": [
    {
     "data": {
      "image/png": "[encoded data removed]",
      "text/plain": [
       "<matplotlib.figure.Figure at 0x7f69ddc6b518>"
      ]
     },
     "metadata": {},
     "output_type": "display_data"
    }
   ],
   "source": [
    "import pandas as pd\n",
    "import numpy as np\n",
    "import csv\n",
    "from nltk import wordpunct_tokenize\n",
    "data = pd.read_csv('Desktop/Datasets/spam.csv', encoding ='latin-1')\n",
    "data = data.drop([\"Unnamed: 2\", \"Unnamed: 3\", \"Unnamed: 4\"], axis=1)\n",
    "data = data.rename(columns={\"v1\":\"label\", \"v2\":\"text\"})\n",
    "a =[]\n",
    "for i in range(5572):\n",
    "    token = wordpunct_tokenize(data['text'][i])\n",
    "    a.append(len(token))\n",
    "b=np.ones(210)\n",
    "for i in range(len(a)):\n",
    "    for j in range(max(a)):\n",
    "        if a[i] == j:\n",
    "            b[j] = b[j]+1\n",
    "        \n",
    "#Plot the Histogram\n",
    "\n",
    "\n",
    "import matplotlib.pyplot as plt\n",
    "fig=plt.figure(figsize=(14,14))\n",
    "x = np.arange(0, 210)\n",
    "plt.hist(b, 35, range=[0, 210], facecolor='gray', align='mid')\n",
    "plt.title('Word count-Number of SMS')\n",
    "plt.xlabel('Word count')\n",
    "plt.ylabel('Number of SMS')\n",
    "plt.show()\n",
    "fig.savefig('Desktop/favas.jpg')"
   ]
  }
 ],
 "metadata": {
  "anaconda-cloud": {},
  "kernelspec": {
   "display_name": "Python [conda root]",
   "language": "python",
   "name": "conda-root-py"
  },
  "language_info": {
   "codemirror_mode": {
    "name": "ipython",
    "version": 3
   },
   "file_extension": ".py",
   "mimetype": "text/x-python",
   "name": "python",
   "nbconvert_exporter": "python",
   "pygments_lexer": "ipython3",
   "version": "3.5.2"
  }
 },
 "nbformat": 4,
 "nbformat_minor": 1
}
